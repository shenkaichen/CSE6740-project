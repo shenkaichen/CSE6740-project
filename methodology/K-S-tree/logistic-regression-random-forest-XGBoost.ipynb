{
 "cells": [
  {
   "cell_type": "markdown",
   "metadata": {},
   "source": [
    "## logistic regression & random forest & XGBoost"
   ]
  },
  {
   "cell_type": "code",
   "execution_count": 29,
   "metadata": {},
   "outputs": [],
   "source": [
    "import pandas as pd\n",
    "import numpy as np\n",
    "\n",
    "# three classification models\n",
    "from sklearn.linear_model import LogisticRegression\n",
    "from sklearn.ensemble import RandomForestClassifier\n",
    "import xgboost as xgb\n",
    "\n",
    "# data preprocessing\n",
    "from sklearn.preprocessing import StandardScaler, OneHotEncoder\n",
    "\n",
    "# performance evaluation\n",
    "from sklearn.metrics import roc_auc_score\n",
    "from sklearn.metrics import roc_curve\n",
    "import matplotlib.pyplot as plt\n",
    "\n",
    "import warnings\n",
    "warnings.filterwarnings('ignore')"
   ]
  },
  {
   "cell_type": "markdown",
   "metadata": {},
   "source": [
    "### 1. read training and testing data:"
   ]
  },
  {
   "cell_type": "code",
   "execution_count": 30,
   "metadata": {},
   "outputs": [],
   "source": [
    "train = pd.read_csv('../../data/splited/train.csv')\n",
    "test = pd.read_csv('../../data/splited/test.csv')\n",
    "train_label = train.iloc[:, 1]\n",
    "train_features = train.iloc[:, 2 :]\n",
    "test_label = test.iloc[:, 1]\n",
    "test_features = test.iloc[:, 2 :]"
   ]
  },
  {
   "cell_type": "markdown",
   "metadata": {},
   "source": [
    "### 2. deal with missing values"
   ]
  },
  {
   "cell_type": "code",
   "execution_count": 31,
   "metadata": {},
   "outputs": [],
   "source": [
    "# replace \"-1\" with \"np.nan\"\n",
    "train_features = train_features.replace(-1, np.nan)\n",
    "test_features = test_features.replace(-1, np.nan)"
   ]
  },
  {
   "cell_type": "code",
   "execution_count": 32,
   "metadata": {},
   "outputs": [
    {
     "name": "stdout",
     "output_type": "stream",
     "text": [
      "missing ratio in train_features:\n",
      "\n",
      "ps_car_03_cat    0.690852\n",
      "ps_car_05_cat    0.447769\n",
      "ps_reg_03        0.181335\n",
      "ps_car_14        0.071324\n",
      "ps_car_07_cat    0.019066\n",
      "ps_ind_05_cat    0.009773\n",
      "ps_car_09_cat    0.000931\n",
      "ps_ind_02_cat    0.000343\n",
      "ps_car_01_cat    0.000178\n",
      "ps_ind_04_cat    0.000137\n",
      "ps_car_11        0.000007\n",
      "ps_car_02_cat    0.000005\n",
      "ps_car_12        0.000002\n",
      "dtype: float64\n"
     ]
    }
   ],
   "source": [
    "# ratio of missing values in train_features\n",
    "train_features_missing_ratio = train_features.isnull().mean()\n",
    "train_features_missing_ratio = train_features_missing_ratio[train_features_missing_ratio > 0] # only consider features with non-zero missing ratio\n",
    "train_features_top_missing_ratio = train_features_missing_ratio.sort_values(ascending=False)\n",
    "print(\"missing ratio in train_features:\\n\")\n",
    "print(train_features_top_missing_ratio)"
   ]
  },
  {
   "cell_type": "code",
   "execution_count": 33,
   "metadata": {},
   "outputs": [
    {
     "name": "stdout",
     "output_type": "stream",
     "text": [
      "missing ratio in train_features:\n",
      "\n",
      "ps_car_03_cat    0.691007\n",
      "ps_car_05_cat    0.447957\n",
      "ps_reg_03        0.180434\n",
      "ps_car_14        0.072260\n",
      "ps_car_07_cat    0.019853\n",
      "ps_ind_05_cat    0.009728\n",
      "ps_car_09_cat    0.001014\n",
      "ps_ind_02_cat    0.000409\n",
      "ps_car_01_cat    0.000185\n",
      "ps_ind_04_cat    0.000146\n",
      "ps_car_02_cat    0.000017\n",
      "ps_car_11        0.000011\n",
      "dtype: float64\n"
     ]
    }
   ],
   "source": [
    "# ratio of missing values in test_features\n",
    "test_features_missing_ratio = test_features.isnull().mean()\n",
    "test_features_missing_ratio = test_features_missing_ratio[test_features_missing_ratio > 0] # only consider features with non-zero missing ratio\n",
    "test_features_top_missing_ratio = test_features_missing_ratio.sort_values(ascending=False)\n",
    "print(\"missing ratio in train_features:\\n\")\n",
    "print(test_features_top_missing_ratio)"
   ]
  },
  {
   "cell_type": "code",
   "execution_count": 34,
   "metadata": {},
   "outputs": [],
   "source": [
    "columns_to_drop = ['ps_car_03_cat', 'ps_car_05_cat', 'ps_reg_03']\n",
    "train_features = train_features.drop(columns=columns_to_drop, errors='ignore') # ignore error if columns to delete don't exist\n",
    "test_features = test_features.drop(columns=columns_to_drop, errors='ignore')"
   ]
  },
  {
   "cell_type": "code",
   "execution_count": 35,
   "metadata": {},
   "outputs": [],
   "source": [
    "# names of features with low missing radio\n",
    "# fill missing values of continuous features with median, fill missing values of categorical/binary features with mode\n",
    "columns_to_fill_with_mode = ['ps_car_07_cat', 'ps_ind_05_cat', 'ps_car_09_cat',\n",
    "                             'ps_ind_02_cat', 'ps_car_01_cat', 'ps_ind_04_cat',\n",
    "                             'ps_car_02_cat']\n",
    "columns_to_fill_with_median = ['ps_car_14', 'ps_car_11', 'ps_car_12']\n",
    "\n",
    "# training set\n",
    "train_features[columns_to_fill_with_mode] = train_features[columns_to_fill_with_mode].fillna(\n",
    "    train_features[columns_to_fill_with_mode].mode().iloc[0]\n",
    ")\n",
    "train_features[columns_to_fill_with_median] = train_features[columns_to_fill_with_median].fillna(\n",
    "    train_features[columns_to_fill_with_median].median()\n",
    ")\n",
    "\n",
    "# testing set\n",
    "test_features[columns_to_fill_with_mode] = test_features[columns_to_fill_with_mode].fillna(\n",
    "    test_features[columns_to_fill_with_mode].mode().iloc[0]\n",
    ")\n",
    "test_features[columns_to_fill_with_median] = test_features[columns_to_fill_with_median].fillna(\n",
    "    test_features[columns_to_fill_with_median].median()\n",
    ")"
   ]
  },
  {
   "cell_type": "markdown",
   "metadata": {},
   "source": [
    "### 3. standardize the training and testing features:"
   ]
  },
  {
   "cell_type": "code",
   "execution_count": 36,
   "metadata": {},
   "outputs": [],
   "source": [
    "# names of continuous features\n",
    "continuous_features = ['ps_ind_01', 'ps_ind_03', 'ps_ind_14', 'ps_ind_15',\n",
    "                       'ps_reg_01', 'ps_reg_02', 'ps_car_11', 'ps_car_12',\n",
    "                       'ps_car_13', 'ps_car_14', 'ps_car_15', 'ps_calc_01',\n",
    "                       'ps_calc_02', 'ps_calc_03', 'ps_calc_04', 'ps_calc_05',\n",
    "                       'ps_calc_06', 'ps_calc_07', 'ps_calc_08', 'ps_calc_09',\n",
    "                       'ps_calc_10', 'ps_calc_11', 'ps_calc_12', 'ps_calc_13', 'ps_calc_14']\n",
    "scaler = StandardScaler()\n",
    "train_continuous = scaler.fit_transform(train_features[continuous_features])\n",
    "test_continuous = scaler.transform(test_features[continuous_features])"
   ]
  },
  {
   "cell_type": "code",
   "execution_count": 38,
   "metadata": {},
   "outputs": [],
   "source": [
    "# names of categorical features\n",
    "categorical_features = ['ps_ind_02_cat', 'ps_ind_04_cat', 'ps_ind_05_cat','ps_car_01_cat',\n",
    "                        'ps_car_02_cat', 'ps_car_04_cat', 'ps_car_06_cat', 'ps_car_07_cat',\n",
    "                        'ps_car_08_cat', 'ps_car_09_cat', 'ps_car_10_cat', 'ps_car_11_cat']\n",
    "encoder = OneHotEncoder(sparse=False)\n",
    "train_categorical = encoder.fit_transform(train_features[categorical_features])\n",
    "test_categorical = encoder.transform(test_features[categorical_features])"
   ]
  },
  {
   "cell_type": "code",
   "execution_count": 43,
   "metadata": {},
   "outputs": [],
   "source": [
    "# names of binary features\n",
    "binary_features = ['ps_ind_06_bin', 'ps_ind_07_bin', 'ps_ind_08_bin', 'ps_ind_09_bin',\n",
    "                   'ps_ind_10_bin', 'ps_ind_11_bin', 'ps_ind_12_bin', 'ps_ind_13_bin',\n",
    "                   'ps_ind_16_bin', 'ps_ind_17_bin', 'ps_ind_18_bin', 'ps_calc_15_bin',\n",
    "                   'ps_calc_16_bin', 'ps_calc_17_bin', 'ps_calc_18_bin', 'ps_calc_19_bin', 'ps_calc_20_bin']\n",
    "train_binary = train_features[binary_features].values\n",
    "test_binary = test_features[binary_features].values"
   ]
  },
  {
   "cell_type": "code",
   "execution_count": 44,
   "metadata": {},
   "outputs": [],
   "source": [
    "train_features_processed = np.hstack((train_continuous, train_categorical, train_binary))\n",
    "test_features_processed = np.hstack((test_continuous, test_categorical, test_binary))"
   ]
  },
  {
   "cell_type": "markdown",
   "metadata": {},
   "source": [
    "### 4. train logistic regression & random forest model & XGBoost model on the training set:"
   ]
  },
  {
   "cell_type": "code",
   "execution_count": 45,
   "metadata": {},
   "outputs": [
    {
     "data": {
      "text/plain": [
       "LogisticRegression(class_weight='balanced', max_iter=50)"
      ]
     },
     "execution_count": 45,
     "metadata": {},
     "output_type": "execute_result"
    }
   ],
   "source": [
    "lr_model = LogisticRegression(penalty='l2', max_iter=50, class_weight='balanced')\n",
    "lr_model.fit(train_features_processed, train_label)"
   ]
  },
  {
   "cell_type": "code",
   "execution_count": 64,
   "metadata": {},
   "outputs": [
    {
     "data": {
      "text/plain": [
       "RandomForestClassifier(class_weight='balanced', max_depth=2, random_state=0)"
      ]
     },
     "execution_count": 64,
     "metadata": {},
     "output_type": "execute_result"
    }
   ],
   "source": [
    "rf_model = RandomForestClassifier(max_depth=2, random_state=0, class_weight='balanced')\n",
    "rf_model.fit(train_features_processed, train_label)"
   ]
  },
  {
   "cell_type": "code",
   "execution_count": 65,
   "metadata": {},
   "outputs": [],
   "source": [
    "dtrain = xgb.DMatrix(train_features_processed, label=train_label)\n",
    "params = {\n",
    "    'objective': 'binary:logistic',\n",
    "    'max_depth': 4,\n",
    "    'eta': 0.3,\n",
    "    'scale_pos_weight': train_label.value_counts()[0] / train_label.value_counts()[1],\n",
    "    'eval_metric': 'auc'\n",
    "}\n",
    "bst = xgb.train(params, dtrain, num_boost_round=10)"
   ]
  },
  {
   "cell_type": "markdown",
   "metadata": {},
   "source": [
    "### 5. evaluate the trained model on the testing set based on AUC:"
   ]
  },
  {
   "cell_type": "code",
   "execution_count": 66,
   "metadata": {},
   "outputs": [
    {
     "name": "stdout",
     "output_type": "stream",
     "text": [
      "AUC: 0.6231141234863893\n"
     ]
    }
   ],
   "source": [
    "test_label_pred_prob_lr = lr_model.predict_proba(test_features_processed)[:, 1] # logistic regression\n",
    "auc_score_lr = roc_auc_score(test_label, test_label_pred_prob_lr)\n",
    "print(f\"AUC: {auc_score_lr}\")"
   ]
  },
  {
   "cell_type": "code",
   "execution_count": 67,
   "metadata": {},
   "outputs": [
    {
     "name": "stdout",
     "output_type": "stream",
     "text": [
      "AUC: 0.6107614549637899\n"
     ]
    }
   ],
   "source": [
    "test_label_pred_prob_rf = rf_model.predict_proba(test_features_processed)[:, 1] # random forest\n",
    "auc_score_rf = roc_auc_score(test_label, test_label_pred_prob_rf)\n",
    "print(f\"AUC: {auc_score_rf}\")"
   ]
  },
  {
   "cell_type": "code",
   "execution_count": 68,
   "metadata": {},
   "outputs": [
    {
     "name": "stdout",
     "output_type": "stream",
     "text": [
      "AUC: 0.6263928903257064\n"
     ]
    }
   ],
   "source": [
    "dtest = xgb.DMatrix(test_features_processed, label=test_label)\n",
    "test_label_pred_XGB = bst.predict(dtest)\n",
    "auc_score_XGB = roc_auc_score(test_label, test_label_pred_XGB)\n",
    "print(f\"AUC: {auc_score_XGB}\")"
   ]
  },
  {
   "cell_type": "markdown",
   "metadata": {},
   "source": [
    "plot ROC curve"
   ]
  },
  {
   "cell_type": "code",
   "execution_count": 69,
   "metadata": {},
   "outputs": [
    {
     "data": {
      "image/png": "[encoded data removed]",
      "text/plain": [
       "<Figure size 640x480 with 1 Axes>"
      ]
     },
     "metadata": {},
     "output_type": "display_data"
    }
   ],
   "source": [
    "# probability predicted by logistic regression, random forest and XGBoost\n",
    "test_label_pred_prob_lr = lr_model.predict_proba(test_features_processed)[:, 1]\n",
    "test_label_pred_prob_rf = rf_model.predict_proba(test_features_processed)[:, 1]\n",
    "test_label_pred_XGB = bst.predict(dtest)\n",
    "\n",
    "# calculate FPR, TPR and threshold\n",
    "fpr_lr, tpr_lr, thresholds_lr = roc_curve(test_label, test_label_pred_prob_lr)\n",
    "fpr_rf, tpr_rf, thresholds_rf = roc_curve(test_label, test_label_pred_prob_rf)\n",
    "fpr_XGB, tpr_XGB, thresholds_XGB = roc_curve(test_label, test_label_pred_XGB)\n",
    "\n",
    "# plot ROC curve\n",
    "plt.figure()\n",
    "plt.plot(fpr_lr, tpr_lr, label=f'Logistic Regression (AUC = {auc_score_lr:.3f})', linewidth=0.8)\n",
    "plt.plot(fpr_rf, tpr_rf, label=f'Random Forest (AUC = {auc_score_rf:.3f})', linewidth=0.8)\n",
    "plt.plot(fpr_XGB, tpr_XGB, label=f'XGBoost (AUC = {auc_score_XGB:.3f})', linewidth=0.8)\n",
    "plt.xlabel('False Positive Rate (FPR)')\n",
    "plt.ylabel('True Positive Rate (TPR)')\n",
    "plt.title('ROC Curve')\n",
    "plt.legend()\n",
    "plt.grid(True, linestyle='--', alpha=0.7)\n",
    "plt.show()"
   ]
  }
 ],
 "metadata": {
  "kernelspec": {
   "display_name": "base",
   "language": "python",
   "name": "python3"
  },
  "language_info": {
   "codemirror_mode": {
    "name": "ipython",
    "version": 3
   },
   "file_extension": ".py",
   "mimetype": "text/x-python",
   "name": "python",
   "nbconvert_exporter": "python",
   "pygments_lexer": "ipython3",
   "version": "3.9.13"
  }
 },
 "nbformat": 4,
 "nbformat_minor": 2
}
