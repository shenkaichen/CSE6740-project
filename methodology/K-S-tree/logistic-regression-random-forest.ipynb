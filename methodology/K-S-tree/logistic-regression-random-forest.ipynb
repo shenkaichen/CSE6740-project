{
 "cells": [
  {
   "cell_type": "markdown",
   "metadata": {},
   "source": [
    "## logistic regression & random forest"
   ]
  },
  {
   "cell_type": "code",
   "execution_count": 31,
   "metadata": {},
   "outputs": [],
   "source": [
    "import pandas as pd\n",
    "import numpy as np\n",
    "\n",
    "# three classification models\n",
    "from sklearn.linear_model import LogisticRegression\n",
    "from sklearn.ensemble import RandomForestClassifier\n",
    "\n",
    "# data preprocessing\n",
    "from sklearn.model_selection import train_test_split\n",
    "from sklearn.preprocessing import StandardScaler, OneHotEncoder\n",
    "\n",
    "# cross-validation and performance evaluation\n",
    "from sklearn.model_selection import RandomizedSearchCV, StratifiedKFold\n",
    "from sklearn.metrics import roc_auc_score\n",
    "from sklearn.metrics import roc_curve\n",
    "import matplotlib.pyplot as plt\n",
    "\n",
    "import warnings\n",
    "warnings.filterwarnings('ignore')"
   ]
  },
  {
   "cell_type": "markdown",
   "metadata": {},
   "source": [
    "### 1. read training and testing data:"
   ]
  },
  {
   "cell_type": "code",
   "execution_count": 32,
   "metadata": {},
   "outputs": [],
   "source": [
    "#train = pd.read_csv('../../data/splited/train.csv')\n",
    "#test = pd.read_csv('../../data/splited/test.csv')\n",
    "#train_label = train.iloc[:, 1]\n",
    "#train_features = train.iloc[:, 2 :]\n",
    "#test_label = test.iloc[:, 1]\n",
    "#test_features = test.iloc[:, 2 :]"
   ]
  },
  {
   "cell_type": "markdown",
   "metadata": {},
   "source": [
    "An imbalanced dataset should be split in a stratified manner, i.e. ratios of labels in training and tesing set are identical to the original data set."
   ]
  },
  {
   "cell_type": "code",
   "execution_count": 33,
   "metadata": {},
   "outputs": [],
   "source": [
    "data = pd.read_csv('../../data/original/train.csv')\n",
    "\n",
    "train_features, test_features, train_label, test_label = train_test_split(data.iloc[:, 2 :], data.iloc[:, 1], test_size = 0.2, stratify = data.iloc[:, 1], random_state = 2024)"
   ]
  },
  {
   "cell_type": "markdown",
   "metadata": {},
   "source": [
    "### 2. resample data"
   ]
  },
  {
   "cell_type": "markdown",
   "metadata": {},
   "source": [
    "No resampling currently."
   ]
  },
  {
   "cell_type": "markdown",
   "metadata": {},
   "source": [
    "### 3. deal with missing values"
   ]
  },
  {
   "cell_type": "code",
   "execution_count": 34,
   "metadata": {},
   "outputs": [],
   "source": [
    "# replace \"-1\" with \"np.nan\"\n",
    "train_features = train_features.replace(-1, np.nan)\n",
    "test_features = test_features.replace(-1, np.nan)"
   ]
  },
  {
   "cell_type": "code",
   "execution_count": 35,
   "metadata": {},
   "outputs": [
    {
     "name": "stdout",
     "output_type": "stream",
     "text": [
      "missing ratio in train_features:\n",
      "\n",
      "ps_car_03_cat    0.690587\n",
      "ps_car_05_cat    0.447329\n",
      "ps_reg_03        0.180820\n",
      "ps_car_14        0.071420\n",
      "ps_car_07_cat    0.019373\n",
      "ps_ind_05_cat    0.009868\n",
      "ps_car_09_cat    0.000962\n",
      "ps_ind_02_cat    0.000380\n",
      "ps_car_01_cat    0.000181\n",
      "ps_ind_04_cat    0.000141\n",
      "ps_car_11        0.000006\n",
      "ps_car_02_cat    0.000004\n",
      "ps_car_12        0.000002\n",
      "dtype: float64\n"
     ]
    }
   ],
   "source": [
    "# ratio of missing values in train_features\n",
    "train_features_missing_ratio = train_features.isnull().mean()\n",
    "train_features_missing_ratio = train_features_missing_ratio[train_features_missing_ratio > 0] # only consider features with non-zero missing ratio\n",
    "train_features_top_missing_ratio = train_features_missing_ratio.sort_values(ascending=False)\n",
    "print(\"missing ratio in train_features:\\n\")\n",
    "print(train_features_top_missing_ratio)"
   ]
  },
  {
   "cell_type": "code",
   "execution_count": 36,
   "metadata": {},
   "outputs": [
    {
     "name": "stdout",
     "output_type": "stream",
     "text": [
      "missing ratio in train_features:\n",
      "\n",
      "ps_car_03_cat    0.692145\n",
      "ps_car_05_cat    0.449812\n",
      "ps_reg_03        0.182043\n",
      "ps_car_14        0.072344\n",
      "ps_car_07_cat    0.019018\n",
      "ps_ind_05_cat    0.009324\n",
      "ps_car_09_cat    0.000932\n",
      "ps_ind_02_cat    0.000294\n",
      "ps_car_01_cat    0.000176\n",
      "ps_ind_04_cat    0.000134\n",
      "ps_car_02_cat    0.000025\n",
      "ps_car_11        0.000017\n",
      "dtype: float64\n"
     ]
    }
   ],
   "source": [
    "# ratio of missing values in test_features\n",
    "test_features_missing_ratio = test_features.isnull().mean()\n",
    "test_features_missing_ratio = test_features_missing_ratio[test_features_missing_ratio > 0] # only consider features with non-zero missing ratio\n",
    "test_features_top_missing_ratio = test_features_missing_ratio.sort_values(ascending=False)\n",
    "print(\"missing ratio in train_features:\\n\")\n",
    "print(test_features_top_missing_ratio)"
   ]
  },
  {
   "cell_type": "code",
   "execution_count": 37,
   "metadata": {},
   "outputs": [],
   "source": [
    "#columns_to_drop = ['ps_car_03_cat', 'ps_car_05_cat', 'ps_reg_03']\n",
    "columns_to_drop = ['ps_car_03_cat', 'ps_car_05_cat']\n",
    "train_features = train_features.drop(columns=columns_to_drop, errors='ignore') # ignore error if columns to delete don't exist\n",
    "test_features = test_features.drop(columns=columns_to_drop, errors='ignore')"
   ]
  },
  {
   "cell_type": "code",
   "execution_count": 38,
   "metadata": {},
   "outputs": [],
   "source": [
    "# names of features with low missing radio\n",
    "# fill missing values of continuous features with median, fill missing values of categorical/binary features with mode\n",
    "columns_to_fill_with_mode = ['ps_car_07_cat', 'ps_ind_05_cat', 'ps_car_09_cat',\n",
    "                             'ps_ind_02_cat', 'ps_car_01_cat', 'ps_ind_04_cat',\n",
    "                             'ps_car_02_cat']\n",
    "#columns_to_fill_with_median = ['ps_car_14', 'ps_car_11', 'ps_car_12']\n",
    "columns_to_fill_with_median = ['ps_car_14', 'ps_car_11', 'ps_car_12', 'ps_reg_03']\n",
    "\n",
    "# training set\n",
    "train_features[columns_to_fill_with_mode] = train_features[columns_to_fill_with_mode].fillna(\n",
    "    train_features[columns_to_fill_with_mode].mode().iloc[0]\n",
    ")\n",
    "train_features[columns_to_fill_with_median] = train_features[columns_to_fill_with_median].fillna(\n",
    "    train_features[columns_to_fill_with_median].median()\n",
    ")\n",
    "\n",
    "# testing set\n",
    "test_features[columns_to_fill_with_mode] = test_features[columns_to_fill_with_mode].fillna(\n",
    "    test_features[columns_to_fill_with_mode].mode().iloc[0]\n",
    ")\n",
    "test_features[columns_to_fill_with_median] = test_features[columns_to_fill_with_median].fillna(\n",
    "    test_features[columns_to_fill_with_median].median()\n",
    ")"
   ]
  },
  {
   "cell_type": "markdown",
   "metadata": {},
   "source": [
    "### 4. standardize the training and testing features:"
   ]
  },
  {
   "cell_type": "code",
   "execution_count": 39,
   "metadata": {},
   "outputs": [],
   "source": [
    "# names of continuous features\n",
    "continuous_features = [column_name for column_name in train_features.columns if '_cat' not in column_name and '_bin' not in column_name]\n",
    "scaler = StandardScaler()\n",
    "train_continuous = scaler.fit_transform(train_features[continuous_features])\n",
    "test_continuous = scaler.transform(test_features[continuous_features])"
   ]
  },
  {
   "cell_type": "code",
   "execution_count": 40,
   "metadata": {},
   "outputs": [],
   "source": [
    "# names of categorical features\n",
    "categorical_features = [column_name for column_name in train_features.columns if '_cat' in column_name]\n",
    "encoder = OneHotEncoder(sparse=False)\n",
    "train_categorical = encoder.fit_transform(train_features[categorical_features])\n",
    "test_categorical = encoder.transform(test_features[categorical_features])"
   ]
  },
  {
   "cell_type": "code",
   "execution_count": 41,
   "metadata": {},
   "outputs": [],
   "source": [
    "# names of binary features\n",
    "binary_features = [column_name for column_name in train_features.columns if '_bin' in column_name]\n",
    "train_binary = train_features[binary_features].values\n",
    "test_binary = test_features[binary_features].values"
   ]
  },
  {
   "cell_type": "code",
   "execution_count": 42,
   "metadata": {},
   "outputs": [],
   "source": [
    "train_features_processed = np.hstack((train_continuous, train_categorical, train_binary))\n",
    "test_features_processed = np.hstack((test_continuous, test_categorical, test_binary))"
   ]
  },
  {
   "cell_type": "code",
   "execution_count": 43,
   "metadata": {},
   "outputs": [
    {
     "data": {
      "text/plain": [
       "((476169, 214), (119043, 214))"
      ]
     },
     "execution_count": 43,
     "metadata": {},
     "output_type": "execute_result"
    }
   ],
   "source": [
    "train_features_processed.shape, test_features_processed.shape"
   ]
  },
  {
   "cell_type": "markdown",
   "metadata": {},
   "source": [
    "### 5. train logistic regression & random forest model on the training set:"
   ]
  },
  {
   "cell_type": "markdown",
   "metadata": {},
   "source": [
    "#### 5.1 logistic regression"
   ]
  },
  {
   "cell_type": "markdown",
   "metadata": {},
   "source": [
    "Use cross-validation to determine best parameters."
   ]
  },
  {
   "cell_type": "code",
   "execution_count": 44,
   "metadata": {},
   "outputs": [
    {
     "name": "stdout",
     "output_type": "stream",
     "text": [
      "Fitting 5 folds for each of 12 candidates, totalling 60 fits\n"
     ]
    },
    {
     "data": {
      "text/plain": [
       "RandomizedSearchCV(cv=StratifiedKFold(n_splits=5, random_state=2024, shuffle=True),\n",
       "                   estimator=LogisticRegression(), n_iter=20, n_jobs=-1,\n",
       "                   param_distributions={'C': [0.001, 0.01, 0.1, 1, 10.0, 100.0],\n",
       "                                        'penalty': ['l2'],\n",
       "                                        'solver': ['lbfgs', 'saga']},\n",
       "                   random_state=2025, scoring='roc_auc', verbose=2)"
      ]
     },
     "execution_count": 44,
     "metadata": {},
     "output_type": "execute_result"
    }
   ],
   "source": [
    "lr_params = {\n",
    "    'C': [1e-3, 1e-2, 1e-1, 1, 1e1, 1e2],\n",
    "    'penalty': ['l2'],\n",
    "    'solver': ['lbfgs', 'saga']\n",
    "}\n",
    "\n",
    "lr_random_search = RandomizedSearchCV(\n",
    "    estimator=LogisticRegression(max_iter=100),\n",
    "    param_distributions=lr_params,\n",
    "    n_iter=20,\n",
    "    scoring='roc_auc',\n",
    "    n_jobs=-1,\n",
    "    cv=StratifiedKFold(n_splits=5, shuffle=True, random_state=2024),\n",
    "    verbose=2,\n",
    "    random_state=2025\n",
    ")\n",
    "\n",
    "lr_random_search.fit(train_features_processed, train_label)"
   ]
  },
  {
   "cell_type": "code",
   "execution_count": 45,
   "metadata": {},
   "outputs": [
    {
     "data": {
      "text/plain": [
       "{'solver': 'saga', 'penalty': 'l2', 'C': 0.01}"
      ]
     },
     "execution_count": 45,
     "metadata": {},
     "output_type": "execute_result"
    }
   ],
   "source": [
    "lr_random_search.best_params_"
   ]
  },
  {
   "cell_type": "markdown",
   "metadata": {},
   "source": [
    "#### 5.2 random forest"
   ]
  },
  {
   "cell_type": "markdown",
   "metadata": {},
   "source": [
    "Set the parameters to be the parameters in the Medium article."
   ]
  },
  {
   "cell_type": "code",
   "execution_count": 47,
   "metadata": {},
   "outputs": [
    {
     "data": {
      "text/plain": [
       "RandomForestClassifier(max_leaf_nodes=100, min_samples_leaf=1000,\n",
       "                       n_estimators=1200, n_jobs=-1)"
      ]
     },
     "execution_count": 47,
     "metadata": {},
     "output_type": "execute_result"
    }
   ],
   "source": [
    "rf_model = RandomForestClassifier(n_estimators=1200, min_samples_leaf=1000, max_leaf_nodes=100, n_jobs=-1)\n",
    "rf_model.fit(train_features_processed, train_label)"
   ]
  },
  {
   "cell_type": "markdown",
   "metadata": {},
   "source": [
    "### 6. evaluate the trained model on the testing set based on AUC:"
   ]
  },
  {
   "cell_type": "code",
   "execution_count": 46,
   "metadata": {},
   "outputs": [
    {
     "name": "stdout",
     "output_type": "stream",
     "text": [
      "AUC: 0.6262614007886701\n"
     ]
    }
   ],
   "source": [
    "test_label_pred_prob_lr = lr_random_search.best_estimator_.predict_proba(test_features_processed)[:, 1]\n",
    "auc_score_lr = roc_auc_score(test_label, test_label_pred_prob_lr)\n",
    "print(f\"AUC: {auc_score_lr}\")"
   ]
  },
  {
   "cell_type": "code",
   "execution_count": 48,
   "metadata": {},
   "outputs": [
    {
     "name": "stdout",
     "output_type": "stream",
     "text": [
      "AUC: 0.6270933024448333\n"
     ]
    }
   ],
   "source": [
    "test_label_pred_prob_rf = rf_model.predict_proba(test_features_processed)[:, 1]\n",
    "auc_score_rf = roc_auc_score(test_label, test_label_pred_prob_rf)\n",
    "print(f\"AUC: {auc_score_rf}\")"
   ]
  },
  {
   "cell_type": "markdown",
   "metadata": {},
   "source": [
    "plot ROC curve"
   ]
  },
  {
   "cell_type": "code",
   "execution_count": 49,
   "metadata": {},
   "outputs": [
    {
     "data": {
      "image/png": "[encoded data removed]",
      "text/plain": [
       "<Figure size 640x480 with 1 Axes>"
      ]
     },
     "metadata": {},
     "output_type": "display_data"
    }
   ],
   "source": [
    "# probability predicted by logistic regression, random forest\n",
    "test_label_pred_prob_lr = lr_random_search.best_estimator_.predict_proba(test_features_processed)[:, 1]\n",
    "test_label_pred_prob_rf = rf_model.predict_proba(test_features_processed)[:, 1]\n",
    "\n",
    "# calculate FPR, TPR and threshold\n",
    "fpr_lr, tpr_lr, thresholds_lr = roc_curve(test_label, test_label_pred_prob_lr)\n",
    "fpr_rf, tpr_rf, thresholds_rf = roc_curve(test_label, test_label_pred_prob_rf)\n",
    "\n",
    "# plot ROC curve\n",
    "plt.figure()\n",
    "plt.plot(fpr_lr, tpr_lr, label=f'Logistic Regression (AUC = {auc_score_lr:.3f})', linewidth=0.8)\n",
    "plt.plot(fpr_rf, tpr_rf, label=f'Random Forest (AUC = {auc_score_rf:.3f})', linewidth=0.8)\n",
    "plt.xlabel('False Positive Rate (FPR)')\n",
    "plt.ylabel('True Positive Rate (TPR)')\n",
    "plt.title('ROC Curve')\n",
    "plt.legend()\n",
    "plt.grid(True, linestyle='--', alpha=0.7)\n",
    "plt.show()"
   ]
  }
 ],
 "metadata": {
  "kernelspec": {
   "display_name": "base",
   "language": "python",
   "name": "python3"
  },
  "language_info": {
   "codemirror_mode": {
    "name": "ipython",
    "version": 3
   },
   "file_extension": ".py",
   "mimetype": "text/x-python",
   "name": "python",
   "nbconvert_exporter": "python",
   "pygments_lexer": "ipython3",
   "version": "3.9.13"
  }
 },
 "nbformat": 4,
 "nbformat_minor": 2
}
