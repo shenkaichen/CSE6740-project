{
 "cells": [
  {
   "cell_type": "code",
   "execution_count": 1,
   "id": "0e131940",
   "metadata": {},
   "outputs": [],
   "source": [
    "import pandas as pd\n",
    "from sklearn.model_selection import train_test_split\n",
    "\n",
    "from sklearn import svm\n",
    "from sklearn.metrics import roc_auc_score\n",
    "from sklearn.metrics import roc_curve\n",
    "from sklearn.metrics import accuracy_score"
   ]
  },
  {
   "cell_type": "markdown",
   "id": "e54e8a32",
   "metadata": {},
   "source": [
    "### 1. initialize"
   ]
  },
  {
   "cell_type": "code",
   "execution_count": 3,
   "id": "d29a3019",
   "metadata": {},
   "outputs": [],
   "source": [
    "# data_src_path = './data/train.csv'\n",
    "data_src_path = '../../data/original/train.csv'\n",
    "\n",
    "data = pd.read_csv(data_src_path)\n",
    "X = data.iloc[:, 2:].values\n",
    "y = data['target'].values\n",
    "\n",
    "X_train, X_test, y_train, y_test = train_test_split(X, y, test_size=0.995, random_state=42)"
   ]
  },
  {
   "cell_type": "markdown",
   "id": "8c35fad4",
   "metadata": {},
   "source": [
    "### 2. train and predict"
   ]
  },
  {
   "cell_type": "code",
   "execution_count": 4,
   "id": "015fb3db",
   "metadata": {},
   "outputs": [],
   "source": [
    "# train\n",
    "clf = svm.SVC(\n",
    "    C=1.0, \n",
    "    kernel='rbf', \n",
    "    degree=3, \n",
    "    gamma='scale'\n",
    ")\n",
    "clf.fit(X_train, y_train)\n",
    "\n",
    "# predict\n",
    "y_pred = clf.predict(X_test)"
   ]
  },
  {
   "cell_type": "markdown",
   "id": "7d3db848",
   "metadata": {},
   "source": [
    "### 3. evaluate"
   ]
  },
  {
   "cell_type": "code",
   "execution_count": 5,
   "id": "b1fbdacf",
   "metadata": {},
   "outputs": [
    {
     "data": {
      "text/plain": [
       "0.9635500037147353"
      ]
     },
     "execution_count": 5,
     "metadata": {},
     "output_type": "execute_result"
    }
   ],
   "source": [
    "accuracy_score(y_test, y_pred)"
   ]
  },
  {
   "cell_type": "code",
   "execution_count": 6,
   "id": "969df42c",
   "metadata": {},
   "outputs": [
    {
     "data": {
      "text/plain": [
       "np.float64(0.5)"
      ]
     },
     "execution_count": 6,
     "metadata": {},
     "output_type": "execute_result"
    }
   ],
   "source": [
    "roc_auc_score(y_test, y_pred)"
   ]
  },
  {
   "cell_type": "code",
   "execution_count": 7,
   "id": "79e8811d",
   "metadata": {},
   "outputs": [
    {
     "data": {
      "text/plain": [
       "(array([0., 1.]), array([0., 1.]), array([inf,  0.]))"
      ]
     },
     "execution_count": 7,
     "metadata": {},
     "output_type": "execute_result"
    }
   ],
   "source": [
    "roc_curve(y_test, y_pred)"
   ]
  }
 ],
 "metadata": {
  "kernelspec": {
   "display_name": "Python 3 (ipykernel)",
   "language": "python",
   "name": "python3"
  },
  "language_info": {
   "codemirror_mode": {
    "name": "ipython",
    "version": 3
   },
   "file_extension": ".py",
   "mimetype": "text/x-python",
   "name": "python",
   "nbconvert_exporter": "python",
   "pygments_lexer": "ipython3",
   "version": "3.11.3"
  }
 },
 "nbformat": 4,
 "nbformat_minor": 5
}
