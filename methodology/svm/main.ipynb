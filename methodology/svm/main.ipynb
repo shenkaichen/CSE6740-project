{
 "cells": [
  {
   "cell_type": "code",
   "execution_count": 14,
   "id": "0e131940",
   "metadata": {},
   "outputs": [],
   "source": [
    "import pandas as pd\n",
    "from sklearn.model_selection import train_test_split\n",
    "\n",
    "from sklearn import svm\n",
    "from sklearn.metrics import roc_auc_score\n",
    "from sklearn.metrics import roc_curve\n",
    "from sklearn.metrics import accuracy_score\n",
    "from imblearn.combine import SMOTEENN"
   ]
  },
  {
   "cell_type": "code",
   "execution_count": 8,
   "id": "d29a3019",
   "metadata": {},
   "outputs": [],
   "source": [
    "# data_src_path = './data/train.csv'\n",
    "data_src_path = '../../data/original/train.csv'\n",
    "\n",
    "data = pd.read_csv(data_src_path)\n",
    "X = data.iloc[:, 2:].values\n",
    "y = data['target'].values\n",
    "\n",
    "X_train, X_test, y_train, y_test = train_test_split(X, y, test_size=0.995, random_state=42)"
   ]
  },
  {
   "cell_type": "markdown",
   "id": "8c35fad4",
   "metadata": {},
   "source": [
    "### Opt-1. set svc model class_weight='balanced'"
   ]
  },
  {
   "cell_type": "code",
   "execution_count": 10,
   "id": "e789b356",
   "metadata": {},
   "outputs": [
    {
     "data": {
      "text/plain": [
       "(0.5116142297363115,\n",
       " array([0.        , 0.42305866, 1.        ]),\n",
       " array([0.        , 0.44628712, 1.        ]),\n",
       " 0.5721789962109699)"
      ]
     },
     "execution_count": 10,
     "metadata": {},
     "output_type": "execute_result"
    }
   ],
   "source": [
    "# Ways to deal with imbalanced data\n",
    "# Opt-1. set svc model class_weight='balanced'\n",
    "svc = svm.SVC(\n",
    "    C=1.0, \n",
    "    kernel='rbf', \n",
    "    degree=3, \n",
    "    gamma='scale', \n",
    "    class_weight='balanced'\n",
    ")\n",
    "svc.fit(X_train, y_train)\n",
    "\n",
    "# predict\n",
    "y_pred = svc.predict(X_test)\n",
    "\n",
    "# evaluate\n",
    "def evaluate(y_true, y_pred):\n",
    "    auc = roc_auc_score(y_true, y_pred)\n",
    "    fpr, tpr, _ = roc_curve(y_true, y_pred)\n",
    "    acc = accuracy_score(y_true, y_pred)\n",
    "    return auc, fpr, tpr, acc\n",
    "\n",
    "evaluate(y_test, y_pred)"
   ]
  },
  {
   "cell_type": "markdown",
   "id": "53ff0e75",
   "metadata": {},
   "source": [
    "### Opt-2. use SMOTE-ENN to generate synthetic samples"
   ]
  },
  {
   "cell_type": "code",
   "execution_count": 15,
   "id": "d43a0fae",
   "metadata": {},
   "outputs": [
    {
     "data": {
      "text/plain": [
       "(0.4976934891476839,\n",
       " array([0.        , 0.63128648, 1.        ]),\n",
       " array([0.        , 0.62667346, 1.        ]),\n",
       " 0.37811615639711194)"
      ]
     },
     "execution_count": 15,
     "metadata": {},
     "output_type": "execute_result"
    }
   ],
   "source": [
    "# resample data\n",
    "smote_enn = SMOTEENN(random_state=42)\n",
    "X_resampled, y_resampled = smote_enn.fit_resample(X_train, y_train)\n",
    "\n",
    "# train\n",
    "svc = svm.SVC(\n",
    "    C=1.0, \n",
    "    kernel='rbf', \n",
    "    degree=3, \n",
    "    gamma='scale'\n",
    ")\n",
    "svc.fit(X_resampled, y_resampled)\n",
    "\n",
    "# predict\n",
    "y_pred = svc.predict(X_test)\n",
    "\n",
    "# evaluate\n",
    "evaluate(y_test, y_pred)"
   ]
  },
  {
   "cell_type": "code",
   "execution_count": 16,
   "id": "925efe1a",
   "metadata": {},
   "outputs": [
    {
     "data": {
      "text/plain": [
       "(0.5054119602227722,\n",
       " array([0.        , 0.41387613, 1.        ]),\n",
       " array([0.        , 0.42470005, 1.        ]),\n",
       " 0.5802399719030927)"
      ]
     },
     "execution_count": 16,
     "metadata": {},
     "output_type": "execute_result"
    }
   ],
   "source": [
    "from imblearn.over_sampling import SMOTE\n",
    "\n",
    "# resample using smote\n",
    "smote = SMOTE(random_state=42)\n",
    "X_resampled, y_resampled = smote.fit_resample(X_train, y_train)\n",
    "\n",
    "# train\n",
    "svc = svm.SVC(\n",
    "    C=1.0, \n",
    "    kernel='rbf', \n",
    "    degree=3, \n",
    "    gamma='scale'\n",
    ")\n",
    "svc.fit(X_resampled, y_resampled)\n",
    "\n",
    "# predict\n",
    "y_pred = svc.predict(X_test)\n",
    "\n",
    "# evaluate\n",
    "evaluate(y_test, y_pred)"
   ]
  }
 ],
 "metadata": {
  "kernelspec": {
   "display_name": "base",
   "language": "python",
   "name": "python3"
  },
  "language_info": {
   "codemirror_mode": {
    "name": "ipython",
    "version": 3
   },
   "file_extension": ".py",
   "mimetype": "text/x-python",
   "name": "python",
   "nbconvert_exporter": "python",
   "pygments_lexer": "ipython3",
   "version": "3.10.9"
  }
 },
 "nbformat": 4,
 "nbformat_minor": 5
}
